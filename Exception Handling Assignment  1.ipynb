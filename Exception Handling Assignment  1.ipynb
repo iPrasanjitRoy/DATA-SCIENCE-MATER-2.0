{
 "cells": [
  {
   "cell_type": "code",
   "execution_count": null,
   "id": "6b0e394e-5800-4aee-9c1c-eecb1f737bf3",
   "metadata": {},
   "outputs": [],
   "source": [
    "\"\"\"\n",
    "Q1. What Is An Exception In Python? What Are The Difference Between Exceptions And Syntax Errors?\n",
    "\n",
    "\n",
    "\n",
    "In Python, an exception is an event that occurs during the execution of a program, which disrupts the normal flow of the program's instructions. When an exceptional situation arises, such as an error or an unexpected condition, an exception is raised.\n",
    "\n",
    "\n",
    "Difference between Syntax Error and Exceptions -----------------------------> \n",
    "Syntax Error: As the name suggests this error is caused by the wrong syntax in the code. It leads to the \n",
    "termination of the program.\n",
    "\n",
    "\n",
    "Exceptions: Exceptions are raised when the program is syntactically correct, but the code \n",
    "results in an error. This error does not stop the execution of the program, however, it changes the \n",
    "normal flow of the program.\n",
    "\"\"\"\n",
    "\n"
   ]
  },
  {
   "cell_type": "code",
   "execution_count": 4,
   "id": "bc5cc083-60d1-4e9a-9ec7-d43d5f74af41",
   "metadata": {},
   "outputs": [
    {
     "name": "stdin",
     "output_type": "stream",
     "text": [
      "Enter the first number:  10\n",
      "Enter the second number:  0\n"
     ]
    },
    {
     "name": "stdout",
     "output_type": "stream",
     "text": [
      "Error: Division by zero is not allowed.\n"
     ]
    },
    {
     "data": {
      "text/plain": [
       "'\\nIn this modified code, if a ZeroDivisionError occurs during the division operation, the program will catch the exception using the except block and print an error message instead of crashing\\n\\n'"
      ]
     },
     "execution_count": 4,
     "metadata": {},
     "output_type": "execute_result"
    }
   ],
   "source": [
    "\"\"\" \n",
    "Q2. What happens when an exception is not handled? Explain with an example. \n",
    "\n",
    "---> When an exception is not handled in a program, it can lead to abnormal termination or unexpected behavior\n",
    "\n",
    "\n",
    "\n",
    "\n",
    "num1 = int(input(\"Enter the first number: \"))\n",
    "num2 = int(input(\"Enter the second number: \"))\n",
    "\n",
    "result = num1 / num2\n",
    "\n",
    "print(\"The result of the division is:\", result)\n",
    "\n",
    "\n",
    "\n",
    "the program will crashed because it encountered an unhandled exception \n",
    "To handle this exception, you can use try-except blocks to catch and gracefully handle the error.\n",
    "\n",
    "\"\"\"\n",
    "import logging\n",
    "\n",
    "# Configure logging\n",
    "logging.basicConfig(filename='division_log.txt', level=logging.ERROR, format='%(asctime)s %(message)s')\n",
    "\n",
    "try:\n",
    "    num1 = int(input(\"Enter the first number: \"))\n",
    "    num2 = int(input(\"Enter the second number: \"))\n",
    "\n",
    "    result = num1 / num2\n",
    "\n",
    "    print(\"The result of the division is:\", result)\n",
    "\n",
    "except ZeroDivisionError as error:\n",
    "    logging.error(\"Error: Division by zero is not allowed. %s\", error)\n",
    "    print(\"Error: Division by zero is not allowed.\")\n",
    "\n",
    "logging.shutdown()\n",
    "\n",
    "\"\"\"\n",
    "In this modified code, if a ZeroDivisionError occurs during the division operation, the program will catch the exception using the except block and print an error message instead of crashing\n",
    "\n",
    "\"\"\"\n",
    "\n"
   ]
  },
  {
   "cell_type": "code",
   "execution_count": 5,
   "id": "5e3aa0a0-b738-483c-94e7-481a9b40320b",
   "metadata": {},
   "outputs": [
    {
     "name": "stdin",
     "output_type": "stream",
     "text": [
      "Enter the first number:  XYZ\n"
     ]
    },
    {
     "name": "stdout",
     "output_type": "stream",
     "text": [
      "Error: Invalid input. Please enter a valid integer.\n"
     ]
    }
   ],
   "source": [
    "# Q3. Which Python statements are used to catch and handle exceptions? Explain with an example.\n",
    "\"\"\"\n",
    "In Python, the try and except statements are used to catch and handle exceptions. \n",
    "\n",
    "\"\"\"\n",
    "import logging\n",
    "\n",
    "# Configure logging\n",
    "logging.basicConfig(filename='division_logg.txt', level=logging.ERROR, format='%(asctime)s %(message)s')\n",
    "\n",
    "try:\n",
    "    num1 = int(input(\"Enter the first number: \"))\n",
    "    num2 = int(input(\"Enter the second number: \"))\n",
    "\n",
    "    result = num1 / num2\n",
    "\n",
    "    print(\"The result of the division is:\", result)\n",
    "\n",
    "except ValueError as e:\n",
    "    logging.error(\"Error: Invalid input. Please enter a valid integer. %s\", e)\n",
    "    print(\"Error: Invalid input. Please enter a valid integer.\")\n",
    "\n",
    "except ZeroDivisionError as e:\n",
    "    logging.error(\"Error: Division by zero is not allowed. %s\", e) \n",
    "    print(\"Error: Division by zero is not allowed.\")\n",
    "\n",
    "logging.shutdown()\n",
    "\n"
   ]
  },
  {
   "cell_type": "code",
   "execution_count": 6,
   "id": "eaf3257d-6e7d-4239-963d-dc5024280306",
   "metadata": {},
   "outputs": [
    {
     "name": "stdin",
     "output_type": "stream",
     "text": [
      "Enter the first number:  XYX\n"
     ]
    },
    {
     "name": "stdout",
     "output_type": "stream",
     "text": [
      "Invalid input. Please enter a valid number.\n"
     ]
    }
   ],
   "source": [
    "\n",
    "# Q4. Explain with an example:\n",
    "\n",
    "# a. try and else \n",
    "\"\"\"\n",
    "In Python, the try and else blocks are used together to handle exceptions that may occur in the code. The try block is used to enclose the code that might raise an exception, and the else block is executed if no exceptions occur in the try block.\n",
    "\n",
    "\"\"\"\n",
    "\n",
    "\n",
    "\n",
    "import logging\n",
    "\n",
    "# Configure logging\n",
    "logging.basicConfig(filename='division_loggg.txt', level=logging.ERROR, format='%(asctime)s %(message)s')\n",
    "\n",
    "try:\n",
    "    num1 = int(input(\"Enter the first number: \"))\n",
    "    num2 = int(input(\"Enter the second number: \"))\n",
    "    result = num1 / num2\n",
    "\n",
    "except ValueError as e:\n",
    "    logging.error(\"Invalid input. Please enter a valid number: %s\", str(e))\n",
    "    print(\"Invalid input. Please enter a valid number.\")\n",
    "\n",
    "except ZeroDivisionError as e:\n",
    "    logging.error(\"Error: Cannot divide by zero: %s\", str(e))\n",
    "    print(\"Error: Cannot divide by zero.\")\n",
    "\n",
    "else:\n",
    "    print(\"The division result is:\", result)\n",
    "\n",
    "logging.shutdown()\n",
    "\n"
   ]
  },
  {
   "cell_type": "code",
   "execution_count": 7,
   "id": "50c89cc7-4f5c-4d49-8bee-d71c73d83f6d",
   "metadata": {},
   "outputs": [
    {
     "name": "stdout",
     "output_type": "stream",
     "text": [
      "Error: File not found.\n",
      "Finally executed.\n"
     ]
    }
   ],
   "source": [
    "# b. finally \n",
    "\"\"\"\n",
    "The finally block executes whether exception rise or not and whether exception handled or not.\n",
    "\n",
    "\"\"\"\n",
    "\n",
    "\n",
    "\n",
    "import logging\n",
    "\n",
    "# Configure logging\n",
    "logging.basicConfig(filename='file_handling_log.txt', level=logging.INFO)\n",
    "\n",
    "try:\n",
    "    file = open(\"example.txt\", \"r\")\n",
    "    content = file.read()\n",
    "    print(content)\n",
    "except FileNotFoundError as error:\n",
    "    logging.error(error)\n",
    "    print(\"Error: File not found.\")\n",
    "finally:\n",
    "    print(\"Finally executed.\") \n",
    "\n",
    "logging.shutdown()\n"
   ]
  },
  {
   "cell_type": "code",
   "execution_count": 8,
   "id": "c0be516a-dac4-4a11-9b1f-d9f503c5e4ce",
   "metadata": {},
   "outputs": [
    {
     "name": "stdout",
     "output_type": "stream",
     "text": [
      "An error occurred while performing the division.\n",
      "Please check the input values and try again.\n"
     ]
    }
   ],
   "source": [
    "\n",
    "# c.Raise \n",
    "\"\"\" \n",
    "Python raise Keyword is used to raise exceptions or errors. The raise keyword raises an error and stops the control flow of the program.\n",
    "\n",
    "\"\"\"\n",
    "\n",
    "import logging\n",
    "\n",
    "def divide(num1, num2):\n",
    "    if num2 == 0:\n",
    "        raise ZeroDivisionError(\"Error: Cannot divide by zero.\")\n",
    "    return num1 / num2\n",
    "\n",
    "# Configure logging\n",
    "logging.basicConfig(filename='division_logggggggg.txt', level=logging.ERROR) \n",
    "\n",
    "try:\n",
    "    result = divide(10, 0)\n",
    "    print(\"The division result is:\", result)\n",
    "except ZeroDivisionError as error:\n",
    "    logging.error(error)\n",
    "    print(\"An error occurred while performing the division.\")\n",
    "    print(\"Please check the input values and try again.\")\n",
    "\n",
    "logging.shutdown()\n"
   ]
  },
  {
   "cell_type": "code",
   "execution_count": 9,
   "id": "2859bdbb-d9ae-491e-841e-f684cfef2b78",
   "metadata": {},
   "outputs": [
    {
     "name": "stdin",
     "output_type": "stream",
     "text": [
      "Enter a number:  -1\n"
     ]
    },
    {
     "name": "stdout",
     "output_type": "stream",
     "text": [
      "An error occurred while calculating the square root.\n",
      "Please check the input value and try again.\n"
     ]
    }
   ],
   "source": [
    "# Q5. What are Custom Exceptions in python? Why do we need Custom Exceptions? Explain with an example.\n",
    "\"\"\"\n",
    "In Python, custom exceptions are user-defined exception  classes that inherit from the base Exception class .\n",
    "There are several reasons why we may need custom exceptions ----------->\n",
    "Custom exceptions allow you to provide more meaningful and descriptive error messages that accurately reflect the specific nature of the exceptional situation.\n",
    "\n",
    "\n",
    "\n",
    "\"\"\"\n",
    "\n",
    "\n",
    "\n",
    "import logging\n",
    "\n",
    "class NegativeNumberError(Exception):\n",
    "    pass\n",
    "\n",
    "def square_root(num):\n",
    "    if num < 0:\n",
    "        raise NegativeNumberError(\"Error: Cannot calculate square root of a negative number.\")\n",
    "    return num ** 0.5\n",
    "\n",
    "# Configure logging\n",
    "logging.basicConfig(filename='square_root_log.txt', level=logging.ERROR)\n",
    "\n",
    "try:\n",
    "    number = int(input(\"Enter a number: \"))\n",
    "    result = square_root(number)\n",
    "    print(\"The square root is:\", result)\n",
    "except NegativeNumberError as error:\n",
    "    logging.error(error)\n",
    "    print(\"An error occurred while calculating the square root.\")\n",
    "    print(\"Please check the input value and try again.\")\n",
    "\n",
    "logging.shutdown() "
   ]
  },
  {
   "cell_type": "code",
   "execution_count": 10,
   "id": "b169dda6-03f5-496a-9771-73a58f62a3d7",
   "metadata": {},
   "outputs": [
    {
     "name": "stdin",
     "output_type": "stream",
     "text": [
      "Enter name:  Roy\n",
      "Enter ID:  1\n",
      "Enter age:  15\n"
     ]
    },
    {
     "name": "stdout",
     "output_type": "stream",
     "text": [
      "Sorry, you are not eligible for voting.\n",
      "Please check the voting eligibility requirements.\n"
     ]
    }
   ],
   "source": [
    "# Q6. Create a custom exception class. Use this class to handle an excep!\n",
    "\n",
    "\n",
    "import logging\n",
    "\n",
    "class VotingPerson(Exception):\n",
    "    def __init__(self, name, id, age):\n",
    "        self.name = name\n",
    "        self.id = id\n",
    "        self.age = age\n",
    "\n",
    "# Configure logging\n",
    "logging.basicConfig(filename='voting_log.txt', level=logging.INFO)\n",
    "\n",
    "try:\n",
    "    name = input(\"Enter name: \")\n",
    "    id = int(input(\"Enter ID: \"))\n",
    "    age = int(input(\"Enter age: \"))\n",
    "    if age < 18:\n",
    "        raise VotingPerson(name, id, age)\n",
    "    print(\"Thanks for voting!\")\n",
    "except VotingPerson as e:\n",
    "    logging.error(f\"Voting eligibility error - Name: {e.name}, ID: {e.id}, Age: {e.age}\")\n",
    "    print(\"Sorry, you are not eligible for voting.\")\n",
    "    print(\"Please check the voting eligibility requirements.\")\n",
    "\n",
    "logging.shutdown() \n"
   ]
  },
  {
   "cell_type": "code",
   "execution_count": null,
   "id": "d2ed5ded-bba4-4b65-989d-38c1f4e20c61",
   "metadata": {},
   "outputs": [],
   "source": []
  }
 ],
 "metadata": {
  "kernelspec": {
   "display_name": "Python 3 (ipykernel)",
   "language": "python",
   "name": "python3"
  },
  "language_info": {
   "codemirror_mode": {
    "name": "ipython",
    "version": 3
   },
   "file_extension": ".py",
   "mimetype": "text/x-python",
   "name": "python",
   "nbconvert_exporter": "python",
   "pygments_lexer": "ipython3",
   "version": "3.10.8"
  }
 },
 "nbformat": 4,
 "nbformat_minor": 5
}
