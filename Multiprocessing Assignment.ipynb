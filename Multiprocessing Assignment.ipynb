{
 "cells": [
  {
   "cell_type": "code",
   "execution_count": null,
   "id": "45f5f3fb-5f67-4345-b315-94eef10d006b",
   "metadata": {},
   "outputs": [],
   "source": [
    "# Q1. What is multiprocessing in python? Why is it useful? \n",
    "\n",
    "\"\"\"\n",
    "Multiprocessing in Python refers to the capability of executing multiple processes simultaneously, where each process runs independently and can perform its tasks concurrently\n",
    "\n",
    "It allows you to leverage multiple CPU cores or processors to execute code in parallel, thereby maximizing the utilization of computational resources and potentially speeding up the execution of your program.\n",
    "\n",
    "Python provides the multiprocessing module, which allows you to create and manage processes, share data between them, and communicate among them. \n",
    "Here are some key reasons why multiprocessing is useful in Python ---------------->\n",
    "\n",
    "Increased Performance: Multiprocessing allows you to distribute the workload across multiple processes, enabling efficient utilization of system resources and improving the overall performance of your application. \n",
    "It can be particularly beneficial for CPU-bound tasks, where the performance gains from parallelism can be substantial.\n",
    "\n",
    "Parallel Execution: By utilizing multiple processes, you can execute computationally intensive or time-consuming tasks concurrently, taking advantage of the available CPU cores. \n",
    "This can significantly reduce the overall execution time of your program, especially for tasks that can be parallelized.\n",
    "\n",
    "\n",
    "\"\"\"\n",
    "\n"
   ]
  },
  {
   "cell_type": "code",
   "execution_count": null,
   "id": "452354ff-f9e8-43a1-9344-115092820942",
   "metadata": {},
   "outputs": [],
   "source": [
    "# Q2. What are the differences between multiprocessing and multithreading?\n",
    "\n",
    "\"\"\"\n",
    "Multiprocessing uses two or more CPUs to increase computing power, whereas multithreading uses a single process with multiple code segments to increase computing power.\n",
    "\n",
    "\n",
    "Multithreading focuses on generating computing threads from a single process, whereas multiprocessing increases computing power by adding CPUs.\n",
    "\n",
    "Multiprocessing is used to create a more reliable system, whereas multithreading is used to create threads that run parallel to each other.\n",
    "\n",
    "Multithreading is quick to create and requires few resources, whereas multiprocessing requires a significant amount of time and specific resources to create.\n",
    "\n",
    "Multiprocessing executes many processes simultaneously, whereas multithreading executes many threads simultaneously.\n",
    "\n",
    "Multithreading uses a common address space for all the threads, whereas multiprocessing creates a separate address space for each process.\n",
    "\n",
    "\n",
    "\n",
    "\"\"\"\n"
   ]
  },
  {
   "cell_type": "code",
   "execution_count": 1,
   "id": "afa60f45-f8fe-44df-b977-05b5a1283e6a",
   "metadata": {},
   "outputs": [
    {
     "name": "stdout",
     "output_type": "stream",
     "text": [
      "Square: 100\n",
      "Cube: 1000\n",
      "Done!\n"
     ]
    }
   ],
   "source": [
    "\n",
    "\n",
    "\n",
    "# Q3. Write a python code to create a process using the multiprocessing module.\n",
    "\n",
    "import multiprocessing\n",
    "  \n",
    "def print_cube(num):\n",
    "    print(\"Cube: {}\".format(num * num * num))\n",
    "  \n",
    "def print_square(num):\n",
    "    print(\"Square: {}\".format(num * num))\n",
    "  \n",
    "if __name__ == \"__main__\":\n",
    "\n",
    "    p1 = multiprocessing.Process(target=print_square, args=(10, ))\n",
    "    p2 = multiprocessing.Process(target=print_cube, args=(10, ))\n",
    "  \n",
    "\n",
    "    p1.start()\n",
    "    p2.start()\n",
    "  \n",
    "\n",
    "    p1.join()\n",
    "    p2.join()\n",
    "  \n",
    "    print(\"Done!\")\n",
    "\n"
   ]
  },
  {
   "cell_type": "code",
   "execution_count": null,
   "id": "ebfdadbd-1d23-4b32-b710-1014da2d2af9",
   "metadata": {},
   "outputs": [],
   "source": [
    "\n",
    "# Q4. What is a multiprocessing pool in python? Why is it used? \n",
    "\n",
    "\"\"\"\n",
    "Python multiprocessing Pool can be used for parallel execution of a function across multiple input values, distributing the input data across processes.\n",
    "\n",
    "a multiprocessing pool simplifies parallel task execution by managing a group of worker processes and distributing tasks efficiently.\n",
    "\n",
    "\n",
    "\n",
    "The main reasons for using a multiprocessing pool are: \n",
    "Parallel Execution: A pool allows you to execute multiple tasks simultaneously by distributing them among the worker processes. \n",
    "Each task is performed independently by a separate process, utilizing multiple CPU cores or processors and potentially improving performance.\n",
    "\n",
    "\n",
    "In Python, a worker process refers to an independent process that performs a specific task or set of tasks. \n",
    "It is typically used in the context of multiprocessing or concurrent programming to achieve parallelism and distribute work among multiple processes.\n",
    "\n",
    "\n",
    "A worker process operates separately from the main program and can execute code concurrently with other processes. \n",
    "It performs its designated task independently and asynchronously, without direct coordination or synchronization with other worker processes.\n",
    "\n",
    "\n",
    "\n",
    "\"\"\"\n",
    "\n"
   ]
  },
  {
   "cell_type": "code",
   "execution_count": 2,
   "id": "f96e98ba-0ad7-4c3d-bc55-8767f291037d",
   "metadata": {},
   "outputs": [
    {
     "name": "stdout",
     "output_type": "stream",
     "text": [
      "[2, 4, 6, 8, 10]\n"
     ]
    }
   ],
   "source": [
    "# Q5. How can we create a pool of worker processes in python using the multiprocessing module?\n",
    "\n",
    "\n",
    "import multiprocessing\n",
    "\n",
    "def worker_task(task):\n",
    "    result = task * 2\n",
    "    return result\n",
    "\n",
    "if __name__ == '__main__':\n",
    "    pool = multiprocessing.Pool()\n",
    "    tasks = [1, 2, 3, 4, 5]\n",
    "    results = pool.map(worker_task, tasks)\n",
    "\n",
    "    print(results)\n",
    "\n"
   ]
  },
  {
   "cell_type": "code",
   "execution_count": null,
   "id": "0d3a0be0-581a-4dbb-ba94-4a11ad15a57a",
   "metadata": {},
   "outputs": [],
   "source": [
    "\n",
    "\n",
    "\n",
    "\n",
    "\n",
    "# Q6. Write a python program to create 4 processes, each process should print a different number using the multiprocessing module in python.\n",
    "\n",
    "\n",
    "import multiprocessing\n",
    "\n",
    "def print_number(number):\n",
    "    print(\"Process ID:\", multiprocessing.current_process().pid, \"Number:\", number) \n",
    "\n",
    "if __name__ == '__main__':\n",
    "    numbers = [1, 2, 3, 4]\n",
    "\n",
    "    processes = [] \n",
    "    for number in numbers:\n",
    "        process = multiprocessing.Process(target=print_number, args=(number,))\n",
    "        processes.append(process)\n",
    "        process.start()\n",
    "\n",
    "    for process in processes:\n",
    "        process.join()\n",
    "\n",
    "    print(\"All processes have finished.\")\n",
    "\n"
   ]
  },
  {
   "cell_type": "code",
   "execution_count": null,
   "id": "00e9d6d5-b1e6-49b8-9918-35f8e8d3a664",
   "metadata": {},
   "outputs": [],
   "source": []
  }
 ],
 "metadata": {
  "kernelspec": {
   "display_name": "Python 3 (ipykernel)",
   "language": "python",
   "name": "python3"
  },
  "language_info": {
   "codemirror_mode": {
    "name": "ipython",
    "version": 3
   },
   "file_extension": ".py",
   "mimetype": "text/x-python",
   "name": "python",
   "nbconvert_exporter": "python",
   "pygments_lexer": "ipython3",
   "version": "3.10.8"
  }
 },
 "nbformat": 4,
 "nbformat_minor": 5
}
