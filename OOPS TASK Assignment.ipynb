{
 "cells": [
  {
   "cell_type": "code",
   "execution_count": 1,
   "id": "6d86b21c-ade2-46b6-ab95-7fe2cefdc584",
   "metadata": {},
   "outputs": [
    {
     "name": "stdout",
     "output_type": "stream",
     "text": [
      "Car\n",
      "200\n",
      "80\n"
     ]
    }
   ],
   "source": [
    "# Q1 Create a vehicle class with an init method having instance variables as name_of_vehicle, max_speed and average_of_vehicle.\n",
    "\n",
    "class Vehicle:\n",
    "    def __init__(self, name_of_vehicle, max_speed, average_speed):\n",
    "        self.name_of_vehicle = name_of_vehicle\n",
    "        self.max_speed = max_speed\n",
    "        self.average_speed = average_speed\n",
    "\n",
    "\n",
    "car = Vehicle(\"Car\", 200, 80)\n",
    "print(car.name_of_vehicle)     \n",
    "print(car.max_speed)           \n",
    "print(car.average_speed)      \n",
    "\n",
    "\n"
   ]
  },
  {
   "cell_type": "code",
   "execution_count": 2,
   "id": "2fbe8aa8-91f5-4ca4-aa74-b9191799e3ec",
   "metadata": {},
   "outputs": [
    {
     "name": "stdout",
     "output_type": "stream",
     "text": [
      "The Sedan has a seating capacity of 5 \n"
     ]
    }
   ],
   "source": [
    "\n",
    "\"\"\" \n",
    "Q2.  Create a child class car from the vehicle class created in Que 1, which will inherit the vehicle class. \n",
    "Create a method named seating_capacity which takes capacity as an argument and returns the name of \n",
    "the vehicle and its seating capacity\n",
    "\n",
    "\"\"\"\n",
    "\n",
    "# ----> \n",
    "\n",
    "class Vehicle:\n",
    "    def __init__(self, name_of_vehicle, max_speed, average_speed):\n",
    "        self.name_of_vehicle = name_of_vehicle\n",
    "        self.max_speed = max_speed\n",
    "        self.average_speed = average_speed\n",
    "\n",
    "class Car(Vehicle):\n",
    "    def seating_capacity(self, capacity):\n",
    "        return f\"The {self.name_of_vehicle} has a seating capacity of {capacity} \"\n",
    "\n",
    "\n",
    "car = Car(\"Sedan\", 200, 80)\n",
    "Obj1 = car.seating_capacity(5) \n",
    "print(Obj1) \n",
    "\n"
   ]
  },
  {
   "cell_type": "code",
   "execution_count": 3,
   "id": "d9490d04-aa44-4e0f-bd07-a09f5c5bff84",
   "metadata": {},
   "outputs": [
    {
     "name": "stdout",
     "output_type": "stream",
     "text": [
      "Parent 1 method\n",
      "Parent 2 method\n",
      "Child method\n"
     ]
    }
   ],
   "source": [
    "\n",
    "\"\"\"  Q3. What is multiple inheritance? Write a python code to demonstrate multiple inheritance \"\"\"\n",
    "# ---> \n",
    "\n",
    "\"\"\" When a class is derived from more than one base class it is called multiple Inheritance \"\"\"\n",
    "\n",
    "class Parent1:\n",
    "    def method1(self):\n",
    "        print(\"Parent 1 method\")\n",
    "\n",
    "class Parent2:\n",
    "    def method2(self):\n",
    "        print(\"Parent 2 method\")\n",
    "\n",
    "class Child(Parent1, Parent2):\n",
    "    def method3(self):\n",
    "        print(\"Child method\")\n",
    "\n",
    "child = Child()\n",
    "child.method1()    \n",
    "child.method2()    \n",
    "child.method3()    \n",
    " \n"
   ]
  },
  {
   "cell_type": "code",
   "execution_count": 4,
   "id": "20a6405b-261c-41f1-b0c7-2b93ce651fab",
   "metadata": {},
   "outputs": [
    {
     "name": "stdout",
     "output_type": "stream",
     "text": [
      "John\n",
      "Alice\n"
     ]
    }
   ],
   "source": [
    "\n",
    "\"\"\" Q4. What are getter and setter in python? Create a class and create a getter and a setter method in this \n",
    "class. \"\"\"\n",
    "\n",
    "# ---> \n",
    "\"\"\" In Python, getters and setters are methods used to access and modify the values of class attributes (variables).  \"\"\"\n",
    "\n",
    "\n",
    "class Person:\n",
    "    def __init__(self, name):\n",
    "        self._name = name   # Private attribute with underscore prefix\n",
    "    \n",
    "    def get_name(self):\n",
    "        return self._name\n",
    "    \n",
    "    def set_name(self, name):\n",
    "        self._name = name\n",
    "\n",
    "\n",
    "person = Person(\"John\")\n",
    "print(person.get_name())   \n",
    "\n",
    "person.set_name(\"Alice\")\n",
    "print(person.get_name()) \n"
   ]
  },
  {
   "cell_type": "code",
   "execution_count": 5,
   "id": "1074dc25-1b5b-45a8-b801-c5d14b20aa0f",
   "metadata": {},
   "outputs": [
    {
     "name": "stdout",
     "output_type": "stream",
     "text": [
      "Engine started.\n",
      "Car engine started.\n",
      "Motorcycle engine started.\n"
     ]
    }
   ],
   "source": [
    "\n",
    "# Q5.What is method overriding in python? Write a python code to demonstrate method overriding \n",
    "\"\"\" Method overriding in Python refers to the ability of a subclass to provide a different implementation of a method that is already defined in its superclass.  \"\"\"\n",
    "\n",
    "# ----> \n",
    "\n",
    "class Vehicle:\n",
    "    def start_engine(self):\n",
    "        print(\"Engine started.\")\n",
    "\n",
    "class Car(Vehicle):\n",
    "    def start_engine(self):\n",
    "        print(\"Car engine started.\")\n",
    "\n",
    "class Motorcycle(Vehicle):\n",
    "    def start_engine(self):\n",
    "        print(\"Motorcycle engine started.\")\n",
    "\n",
    "vehicle = Vehicle()\n",
    "car = Car()\n",
    "motorcycle = Motorcycle()\n",
    "\n",
    "vehicle.start_engine()    \n",
    "car.start_engine()        \n",
    "motorcycle.start_engine()  \n",
    "\n",
    "\n"
   ]
  },
  {
   "cell_type": "code",
   "execution_count": null,
   "id": "1e597c36-8533-4b55-80f8-3c858416a421",
   "metadata": {},
   "outputs": [],
   "source": []
  }
 ],
 "metadata": {
  "kernelspec": {
   "display_name": "Python 3 (ipykernel)",
   "language": "python",
   "name": "python3"
  },
  "language_info": {
   "codemirror_mode": {
    "name": "ipython",
    "version": 3
   },
   "file_extension": ".py",
   "mimetype": "text/x-python",
   "name": "python",
   "nbconvert_exporter": "python",
   "pygments_lexer": "ipython3",
   "version": "3.10.8"
  }
 },
 "nbformat": 4,
 "nbformat_minor": 5
}
