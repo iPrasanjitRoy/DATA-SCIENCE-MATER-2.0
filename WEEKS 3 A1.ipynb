{
 "cells": [
  {
   "cell_type": "code",
   "execution_count": 1,
   "id": "02c88489-31a3-4f06-8548-3716c0d71534",
   "metadata": {},
   "outputs": [
    {
     "name": "stdout",
     "output_type": "stream",
     "text": [
      "[1, 3, 5, 7, 9, 11, 13, 15, 17, 19, 21, 23, 25]\n"
     ]
    }
   ],
   "source": [
    "# Q1. Which keyword is used to create a function? Create a function to return a list of odd numbers in the range of 1 to 25\n",
    "\n",
    "# --> 'def' Keyeord is used to Create a Function \n",
    "\n",
    "def odd_numbers():\n",
    "    odd_num = [] \n",
    "    for num in range(0,26):\n",
    "        if num % 2 != 0:\n",
    "            odd_num.append(num)\n",
    "    return odd_num \n",
    "\n",
    "get_num_obj = odd_numbers()\n",
    "print(get_num_obj)   \n",
    "\n",
    "\n",
    "\n"
   ]
  },
  {
   "cell_type": "code",
   "execution_count": 2,
   "id": "0e771171-ecab-4ab1-bc57-a22823ceaa62",
   "metadata": {},
   "outputs": [
    {
     "name": "stdout",
     "output_type": "stream",
     "text": [
      "100\n",
      "200\n",
      "500\n",
      "1000\n",
      "Hello\n",
      "Name: Prasanjit\n",
      "Age: 23\n",
      "City: SILIGURI\n"
     ]
    }
   ],
   "source": [
    "# Q2. Why *args and **kwargs is used in some functions? Create a function each for *args and **kwargs to demonstrate their use.\n",
    "\n",
    "# -->  If you do not know how many arguments that will be passed into your function, add a * before the parameter name in the function definition.\n",
    "\n",
    "# --> If you do not know how many key value pair arguments that will be passed into your function, add two asterisk: ** before the parameter name in the function definition.\n",
    "\n",
    "def print_arguments(*args):\n",
    "    for arg in args:\n",
    "        print(arg)\n",
    "\n",
    "print_arguments(100, 200, 500, 1000, \"Hello\") \n",
    "\n",
    "\n",
    "\n",
    "\n",
    "def keyvalue_arguments(**kwargs):\n",
    "    for key, value in kwargs.items():\n",
    "        print(f'{key}: {value}') \n",
    "\n",
    "keyvalue_arguments(Name='Prasanjit', Age=23, City='SILIGURI')  \n",
    "\n",
    "\n",
    "\n"
   ]
  },
  {
   "cell_type": "code",
   "execution_count": 3,
   "id": "9f25df4d-7921-48ab-bd31-cb82df5f665d",
   "metadata": {},
   "outputs": [
    {
     "name": "stdout",
     "output_type": "stream",
     "text": [
      "2\n",
      "4\n",
      "6\n",
      "8\n",
      "10\n"
     ]
    }
   ],
   "source": [
    "# Q3.  What is an iterator in python? Name the method used to initialise the iterator object and the method used for iteration. \n",
    "# Use these methods to print the first five elements of the given list [2, 4, 6, 8, 10, 12, 14, 16, 18, 20]. \n",
    "\n",
    "\n",
    "\"\"\" \n",
    "In Python, an iterator is an object that allows you to iterate over collections of data, such as lists, tuples, dictionaries, and sets.\n",
    "__iter__() Method: This method is used to initialize the iterator object. \n",
    "__next__() Method: This method is used for iteration and returns the next value from the iterator.\n",
    "\"\"\"\n",
    "\n",
    "\n",
    "my_list = [2, 4, 6, 8, 10, 12, 14, 16, 18, 20]\n",
    "\n",
    "\n",
    "my_iterator = iter(my_list)\n",
    "\n",
    "# \" '_' --> USED FOR Temporary Variables\"  \n",
    "for _ in range(5):   \n",
    "    element = next(my_iterator)\n",
    "    print(element) \n"
   ]
  },
  {
   "cell_type": "code",
   "execution_count": 4,
   "id": "92322172-bd46-44b2-8004-6a4acba4c9c3",
   "metadata": {},
   "outputs": [
    {
     "name": "stdout",
     "output_type": "stream",
     "text": [
      "0\n",
      "1\n",
      "2\n",
      "3\n",
      "4\n",
      "5\n"
     ]
    }
   ],
   "source": [
    "# Q4.  What is a generator function in python? Why yield keyword is used? Give an example of a generator  function. \n",
    "\n",
    "\"\"\"\n",
    "Generators in Python are used to create iterators and return a traversal object. \n",
    "It helps in traversing all the items one at a time with the help of the keyword yield\n",
    "\n",
    "The yield keyword is used within a generator function to define the points at which the generator should pause its execution and yield a value to the caller.\n",
    "\n",
    "\"\"\"\n",
    "\n",
    "\n",
    "\n",
    "def Genarator(n):\n",
    "    Value = 0;\n",
    "    while Value <= n :\n",
    "        yield Value\n",
    "        Value += 1 \n",
    "\n",
    "for Number in Genarator(5):\n",
    "    print(Number)  "
   ]
  },
  {
   "cell_type": "code",
   "execution_count": 5,
   "id": "1b38aff4-e800-4e40-b0d3-5dbdb509c894",
   "metadata": {},
   "outputs": [
    {
     "name": "stdout",
     "output_type": "stream",
     "text": [
      "2\n",
      "3\n",
      "5\n",
      "7\n",
      "11\n",
      "13\n",
      "17\n",
      "19\n",
      "23\n",
      "29\n",
      "31\n",
      "37\n",
      "41\n",
      "43\n",
      "47\n",
      "53\n",
      "59\n",
      "61\n",
      "67\n",
      "71\n"
     ]
    }
   ],
   "source": [
    "# Q5. Create a generator function for prime numbers less than 1000. Use the next() method to print the first 20 prime numbers.\n",
    "\n",
    "def prime_generator(): \n",
    "    num = 2 \n",
    "\n",
    "    while num < 1000: \n",
    "        is_prime = True \n",
    "\n",
    "        for i in range(2, num):\n",
    "            if num % i == 0:\n",
    "                is_prime = False\n",
    "                break\n",
    "\n",
    "        if is_prime: \n",
    "            yield num\n",
    "\n",
    "        num += 1\n",
    "\n",
    "\n",
    "prime_gen = prime_generator()\n",
    "\n",
    "for _ in range(20):\n",
    "    prime = next(prime_gen)\n",
    "    print(prime) \n",
    "\n"
   ]
  },
  {
   "cell_type": "code",
   "execution_count": 6,
   "id": "2b862a8d-00ec-4ba3-8bbb-0bc820c03b80",
   "metadata": {},
   "outputs": [
    {
     "name": "stdout",
     "output_type": "stream",
     "text": [
      "0\n",
      "1\n",
      "1\n",
      "2\n",
      "3\n",
      "5\n",
      "8\n",
      "13\n",
      "21\n",
      "34\n"
     ]
    }
   ],
   "source": [
    "# Q6. Write a python program to print the first 10 Fibonacci numbers using a while loop\n",
    "\n",
    "def fibonacci():\n",
    "    num1 = 0\n",
    "    num2 = 1\n",
    "\n",
    "    \n",
    "    print(num1)\n",
    "    print(num2)\n",
    "\n",
    "    \n",
    "    count = 2\n",
    "\n",
    "\n",
    "    while count < 10:\n",
    "       \n",
    "        next_num = num1 + num2\n",
    "\n",
    "      \n",
    "        print(next_num)\n",
    "\n",
    "        num1 = num2\n",
    "        num2 = next_num\n",
    "\n",
    "        \n",
    "        count += 1\n",
    "\n",
    "\n",
    "fibonacci() \n"
   ]
  },
  {
   "cell_type": "code",
   "execution_count": 7,
   "id": "3350eb5c-0dab-4e2d-8446-c59351bc8196",
   "metadata": {},
   "outputs": [
    {
     "name": "stdout",
     "output_type": "stream",
     "text": [
      "['p', 'w', 's', 'k', 'i', 'l', 'l', 's']\n"
     ]
    }
   ],
   "source": [
    "# Q7. Write a List Comprehension to iterate through the given string: ‘pwskills’. Expected output: ['p', 'w', 's', 'k', 'i', 'l', 'l', 's']\n",
    "\n",
    "\n",
    "String = 'pwskills'\n",
    "\n",
    "Result = list(String)\n",
    "\n",
    "print(Result) \n",
    "\n"
   ]
  },
  {
   "cell_type": "code",
   "execution_count": 8,
   "id": "ab46f4b8-089b-4ffb-b484-873568150086",
   "metadata": {},
   "outputs": [
    {
     "name": "stdin",
     "output_type": "stream",
     "text": [
      "Enter a number:  12221\n"
     ]
    },
    {
     "name": "stdout",
     "output_type": "stream",
     "text": [
      "12221 is a palindrome\n"
     ]
    }
   ],
   "source": [
    "# Q8. Write a python program to check whether a given number is Palindrome or not using a while loop\n",
    "\n",
    "\n",
    "# Palindrome Number - 1221 - 12221 \n",
    "def is_palindrome(num):\n",
    "    \n",
    "    num_str = str(num)\n",
    "\n",
    "   \n",
    "    left = 0\n",
    "    right = len(num_str) - 1 ;\n",
    "\n",
    "\n",
    "    while left < right:\n",
    "        if num_str[left] != num_str[right]:\n",
    "            return False\n",
    "        \n",
    "        \n",
    "        left += 1\n",
    "        right -= 1\n",
    "\n",
    "    return True \n",
    "\n",
    "\n",
    "number = int(input(\"Enter a number: \"))\n",
    "\n",
    "object = is_palindrome(number)\n",
    "if object == True : \n",
    "    \n",
    "    print(f\"{number} is a palindrome\")\n",
    "\n",
    "else:\n",
    "    print(f\"{number} is not a palindrome\") "
   ]
  },
  {
   "cell_type": "code",
   "execution_count": 9,
   "id": "ace3d39d-e9d0-453e-bfd6-9daca3cdb4c5",
   "metadata": {},
   "outputs": [
    {
     "name": "stdout",
     "output_type": "stream",
     "text": [
      "[1, 3, 5, 7, 9, 11, 13, 15, 17, 19, 21, 23, 25, 27, 29, 31, 33, 35, 37, 39, 41, 43, 45, 47, 49, 51, 53, 55, 57, 59, 61, 63, 65, 67, 69, 71, 73, 75, 77, 79, 81, 83, 85, 87, 89, 91, 93, 95, 97, 99]\n"
     ]
    }
   ],
   "source": [
    "# Q9. Write a code to print odd numbers from 1 to 100 using list comprehension.\n",
    "\n",
    "# Note: Use a list comprehension to create a list from 1 to 100 and use another List comprehension to filter out odd numbers.\n",
    "\n",
    "\n",
    "\n",
    "\n",
    "def check_odd(number): \n",
    " \n",
    " if number % 2 != 0:\n",
    "        return True \n",
    " return False\n",
    "\n",
    "number = list(range(100)) \n",
    "odd_numbers_iterator = filter(check_odd, number)   \n",
    "odd_numbers = list(odd_numbers_iterator)\n",
    "print(odd_numbers)      "
   ]
  },
  {
   "cell_type": "code",
   "execution_count": null,
   "id": "9e1079ce-0265-46a8-8665-451b1d85ac64",
   "metadata": {},
   "outputs": [],
   "source": []
  }
 ],
 "metadata": {
  "kernelspec": {
   "display_name": "Python 3 (ipykernel)",
   "language": "python",
   "name": "python3"
  },
  "language_info": {
   "codemirror_mode": {
    "name": "ipython",
    "version": 3
   },
   "file_extension": ".py",
   "mimetype": "text/x-python",
   "name": "python",
   "nbconvert_exporter": "python",
   "pygments_lexer": "ipython3",
   "version": "3.10.8"
  }
 },
 "nbformat": 4,
 "nbformat_minor": 5
}
