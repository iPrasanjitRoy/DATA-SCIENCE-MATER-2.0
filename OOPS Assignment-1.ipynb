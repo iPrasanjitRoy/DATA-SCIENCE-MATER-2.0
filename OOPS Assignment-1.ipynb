{
 "cells": [
  {
   "cell_type": "code",
   "execution_count": 1,
   "id": "ab2f2ee8-fe62-477e-8d28-c27d60b55b13",
   "metadata": {},
   "outputs": [
    {
     "name": "stdout",
     "output_type": "stream",
     "text": [
      "Buddy\n",
      "Woof!\n"
     ]
    }
   ],
   "source": [
    "# Q1. Explain Class and Object with respect to Object-Oriented Programming. Give a suitable example \n",
    "\n",
    "\n",
    "\"\"\" \n",
    "A class is a collection of objects. A class contains the blueprints or the prototype from which the objects \n",
    "are being created. It is a logical entity that contains some attributes and methods\n",
    "\n",
    "\n",
    "An object is an instance of a class.\n",
    "It represents a specific entity or item created based on the blueprint provided by the class.\n",
    "\n",
    "\"\"\" \n",
    "\n",
    "\n",
    "class Dog:\n",
    "    def __init__(self, name, age):\n",
    "        self.name = name\n",
    "        self.age = age\n",
    "\n",
    "    def bark(self):\n",
    "        print(\"Woof!\")\n",
    "\n",
    "\n",
    "dog1 = Dog(\"Buddy\", 10) #OBJECTS \n",
    "print(dog1.name) \n",
    "dog1.bark()  \n",
    "\n"
   ]
  },
  {
   "cell_type": "code",
   "execution_count": 2,
   "id": "46d6af88-158a-44e7-969a-bff5455ff4a0",
   "metadata": {},
   "outputs": [
    {
     "data": {
      "text/plain": [
       "'\\nInheritance\\nInheritance is the capability of one class to derive or inherit the properties from another class. The class that derives properties is called the derived class \\nor child class and the class from which the properties are being derived is called the base class or parent class.\\n\\n\\nPolymorphism\\nPolymorphism simply means having many forms. \\nFor example, we need to determine if the given species of birds fly or not, using polymorphism we can do this using a single function\\n\\n\\nEncapsulation\\nEncapsulation is one of the fundamental concepts in object-oriented programming (OOP). It describes the \\nidea of wrapping data and the methods that work on data within one unit. This puts restrictions on \\naccessing variables and methods directly and can prevent the accidental modification of data.\\n\\nTo prevent accidental change, an objects variable can only be changed by an objects method. \\nThose types of variables are known as private variables \\n\\n\\n\\nAbstraction\\nIt hides unnecessary code details from the user. Also, when we do not want to give out sensitive parts of \\nour code implementation and this is where data abstraction came.\\n\\nData Abstraction in Python can be achieved by creating abstract classes\\n\\n\\n'"
      ]
     },
     "execution_count": 2,
     "metadata": {},
     "output_type": "execute_result"
    }
   ],
   "source": [
    "\n",
    "# Q2. Name the four pillars of OOPs \n",
    "\"\"\"\n",
    "Inheritance\n",
    "Inheritance is the capability of one class to derive or inherit the properties from another class. The class that derives properties is called the derived class \n",
    "or child class and the class from which the properties are being derived is called the base class or parent class.\n",
    "\n",
    "\n",
    "Polymorphism\n",
    "Polymorphism simply means having many forms. \n",
    "For example, we need to determine if the given species of birds fly or not, using polymorphism we can do this using a single function\n",
    "\n",
    "\n",
    "Encapsulation\n",
    "Encapsulation is one of the fundamental concepts in object-oriented programming (OOP). It describes the \n",
    "idea of wrapping data and the methods that work on data within one unit. This puts restrictions on \n",
    "accessing variables and methods directly and can prevent the accidental modification of data.\n",
    "\n",
    "To prevent accidental change, an objects variable can only be changed by an objects method. \n",
    "Those types of variables are known as private variables \n",
    "\n",
    "\n",
    "\n",
    "Abstraction\n",
    "It hides unnecessary code details from the user. Also, when we do not want to give out sensitive parts of \n",
    "our code implementation and this is where data abstraction came.\n",
    "\n",
    "Data Abstraction in Python can be achieved by creating abstract classes\n",
    "\n",
    "\n",
    "\"\"\"\n",
    "\n"
   ]
  },
  {
   "cell_type": "code",
   "execution_count": 3,
   "id": "76debda3-d059-4d0b-a65f-c3e9cc02cd9c",
   "metadata": {},
   "outputs": [
    {
     "name": "stdout",
     "output_type": "stream",
     "text": [
      "My name is Alice and I am 25 years old.\n",
      "My name is Bob and I am 30 years old.\n"
     ]
    }
   ],
   "source": [
    "\n",
    "# Q3. Explain why the __init__() function is used. Give a suitable example \n",
    "\"\"\"\n",
    "The __init__ method is similar to constructors in C++ and Java. It is run as soon as an object of a class is \n",
    "instantiated. The method is useful to do any initialization you want to do with your object. \n",
    "\n",
    "\n",
    "The __init__() function is a special method in Python classes that is automatically called when an instance of the class is created.\n",
    "\"\"\"\n",
    "\n",
    "class Person:\n",
    "    def __init__(self, name, age):\n",
    "        self.name = name\n",
    "        self.age = age\n",
    "\n",
    "    def introduce(self):\n",
    "        print(f\"My name is {self.name} and I am {self.age} years old.\")\n",
    "\n",
    "# Creating instances (objects) of the Person class \n",
    "person1 = Person(\"Alice\", 25)\n",
    "person2 = Person(\"Bob\", 30)\n",
    "\n",
    "# Calling the introduce method\n",
    "person1.introduce()   \n",
    "person2.introduce()  \n",
    "\n",
    "\n",
    "\n"
   ]
  },
  {
   "cell_type": "code",
   "execution_count": 4,
   "id": "902f8ab2-0631-4806-9505-f4a0abf3557c",
   "metadata": {},
   "outputs": [
    {
     "data": {
      "text/plain": [
       "'\\nClass methods must have an extra first parameter in the method definition. \\nWe do not give a value for this parameter when we call the method, Python provides it. \\n\\nIf we have a method that takes no arguments, then we still have to have one argument.\\n\\nThis is similar to this pointer in C++ and this reference in Java.   \\n\\nself parameter is used as a reference to the instance of a class. \\nself parameter allows you to access the attributes and methods of the current instance within the class. \\n\\n\\n\\n'"
      ]
     },
     "execution_count": 4,
     "metadata": {},
     "output_type": "execute_result"
    }
   ],
   "source": [
    "\n",
    "\n",
    "\n",
    "# Q4. Why self is used in OOPs? \n",
    "\n",
    "\"\"\"\n",
    "Class methods must have an extra first parameter in the method definition. \n",
    "We do not give a value for this parameter when we call the method, Python provides it. \n",
    "\n",
    "If we have a method that takes no arguments, then we still have to have one argument.\n",
    "\n",
    "This is similar to this pointer in C++ and this reference in Java.   \n",
    "\n",
    "self parameter is used as a reference to the instance of a class. \n",
    "self parameter allows you to access the attributes and methods of the current instance within the class. \n",
    "\n",
    "\n",
    "\n",
    "\"\"\"\n"
   ]
  },
  {
   "cell_type": "code",
   "execution_count": 5,
   "id": "a19b7430-a418-4b15-85fd-d6ccf65712bb",
   "metadata": {},
   "outputs": [
    {
     "name": "stdout",
     "output_type": "stream",
     "text": [
      "Eating...\n",
      "Woof!\n",
      "Flying...\n",
      "Swimming...\n",
      "Driving...\n",
      "Parking...\n",
      "Luxury features...\n",
      "Drawing...\n",
      "Calculating area of the circle...\n",
      "Drawing...\n",
      "Calculating area of the rectangle...\n"
     ]
    }
   ],
   "source": [
    "\n",
    "# Q5. What is inheritance? Give an example for each type of inheritance \n",
    "\n",
    "\"\"\"\n",
    "Inheritance\n",
    "Inheritance is the capability of one class to derive or inherit the properties from another class. The class that derives properties is called the derived class \n",
    "or child class and the class from which the properties are being derived is called the base class or parent class.\n",
    " \n",
    "\n",
    "Types of Inheritance ------------> \n",
    "• Single Inheritance: Single-level inheritance enables a derived class to inherit characteristics from a single-parent class.\n",
    "\n",
    "\n",
    "\n",
    "• Multilevel Inheritance: Multi-level inheritance enables a derived class to inherit properties from an immediate parent class which in turn inherits properties from his parent class.\n",
    "\n",
    "\n",
    "• Hierarchical Inheritance: Hierarchical-level inheritance enables more than one derived class to inherit properties from a parent class.\n",
    "\n",
    "\n",
    "• Multiple Inheritance: Multiple-level inheritance enables one derived class to inherit properties from more than one base class \n",
    "\n",
    "\n",
    "\"\"\"\n",
    "\n",
    "# Single Inheritance ----------------------> \n",
    "class Animal:\n",
    "    def eat(self):\n",
    "        print(\"Eating...\")\n",
    "\n",
    "class Dog(Animal):\n",
    "    def bark(self):\n",
    "        print(\"Woof!\")\n",
    "\n",
    "dog = Dog()\n",
    "dog.eat()   \n",
    "dog.bark() \n",
    "\n",
    "\n",
    "# Multiple Inheritance --------------->\n",
    "\n",
    "class Flyable:\n",
    "    def fly(self):\n",
    "        print(\"Flying...\")\n",
    "\n",
    "class Swimmable:\n",
    "    def swim(self):\n",
    "        print(\"Swimming...\")\n",
    "\n",
    "class Duck(Flyable, Swimmable):\n",
    "    pass\n",
    "\n",
    "duck = Duck()\n",
    "duck.fly()  \n",
    "duck.swim()  \n",
    "\n",
    "\n",
    "\n",
    "# Multilevel Inheritance -------------------> \n",
    "class Vehicle:\n",
    "    def drive(self):\n",
    "        print(\"Driving...\")\n",
    "\n",
    "class Car(Vehicle):\n",
    "    def park(self):\n",
    "        print(\"Parking...\")\n",
    "\n",
    "class Sedan(Car):\n",
    "    def features(self):\n",
    "        print(\"Luxury features...\")\n",
    "\n",
    "sedan = Sedan()\n",
    "sedan.drive()   \n",
    "sedan.park()    \n",
    "sedan.features()  \n",
    "\n",
    "\n",
    "\n",
    "# Hierarchical Inheritance  ---------------------->\n",
    "class Shape:\n",
    "    def draw(self):\n",
    "        print(\"Drawing...\")\n",
    "\n",
    "class Circle(Shape):\n",
    "    def calculate_area(self):\n",
    "        print(\"Calculating area of the circle...\")\n",
    "\n",
    "class Rectangle(Shape):\n",
    "    def calculate_area(self):\n",
    "        print(\"Calculating area of the rectangle...\")\n",
    "\n",
    "circle = Circle()\n",
    "circle.draw()           \n",
    "circle.calculate_area() \n",
    "\n",
    "rectangle = Rectangle()\n",
    "rectangle.draw()          \n",
    "rectangle.calculate_area() \n",
    "\n",
    "\n",
    "\n",
    "\n"
   ]
  },
  {
   "cell_type": "code",
   "execution_count": null,
   "id": "0d01ab0b-7698-4c8b-863a-31359c370e3a",
   "metadata": {},
   "outputs": [],
   "source": []
  }
 ],
 "metadata": {
  "kernelspec": {
   "display_name": "Python 3 (ipykernel)",
   "language": "python",
   "name": "python3"
  },
  "language_info": {
   "codemirror_mode": {
    "name": "ipython",
    "version": 3
   },
   "file_extension": ".py",
   "mimetype": "text/x-python",
   "name": "python",
   "nbconvert_exporter": "python",
   "pygments_lexer": "ipython3",
   "version": "3.10.8"
  }
 },
 "nbformat": 4,
 "nbformat_minor": 5
}
