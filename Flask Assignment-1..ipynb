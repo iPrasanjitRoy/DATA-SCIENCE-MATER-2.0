{
 "cells": [
  {
   "cell_type": "code",
   "execution_count": null,
   "id": "01ef678a-0ae0-4188-b436-ea4f1ce96b7e",
   "metadata": {},
   "outputs": [],
   "source": [
    "\"\"\"\n",
    "Q1. What is Flask Framework? What are the advantages of Flask Framework?\n",
    "\n",
    "\n",
    "Flask is a lightweight and flexible web framework written in Python. \n",
    "It is designed to be simple, easy to learn, and provides developers with the essentials to build web applications. \n",
    "\n",
    "\n",
    "Flask follows the principles of the microframework, \n",
    "which means it focuses on providing core functionality and leaves the choice of additional libraries and tools to the developer.\n",
    "\n",
    "\n",
    "\n",
    "Advantages of Flask Framework:\n",
    "Simplicity: Flask has a simple and intuitive API that makes it easy to understand and use. \n",
    "\n",
    "Lightweight: Flask is a lightweight framework that has a small footprint, making it fast and efficient. \n",
    "\n",
    "Flexibility: Flask is highly flexible and allows developers to customize and extend its functionality as needed. \n",
    "It doesn't enforce a specific project structure or database ORM (Object-Relational Mapping), giving developers the freedom to use the tools and components that best suit their project.\n",
    "\n",
    "\n",
    "Scalability: While Flask is suitable for small to medium-sized applications, \n",
    "it can also scale to handle larger projects by leveraging its modular design and the ability to integrate additional components as needed. \n",
    "\n",
    "\n",
    "\"\"\"\n"
   ]
  },
  {
   "cell_type": "code",
   "execution_count": null,
   "id": "9a11a5d6-d5ce-4460-9cbb-6407b7891fca",
   "metadata": {},
   "outputs": [],
   "source": [
    "\"\"\"\n",
    "Q2. Create a simple Flask application to display Hello World!!. Attach the screenshot of the output in \n",
    "Jupyter Notebook.\n",
    "\"\"\"\n",
    "from flask import Flask \n",
    "app = Flask(__name__)\n",
    "\n",
    "@app.route('/')\n",
    "def Hello():\n",
    "   return \"<h1>Hello World !</h1>\"\n",
    "\n",
    "\n",
    "\n",
    "if __name__ == '__main__':\n",
    "   app.run(host=\"0.0.0.0\") \n",
    "\n",
    "\n",
    "\n"
   ]
  },
  {
   "cell_type": "code",
   "execution_count": null,
   "id": "86a1a87e-092f-4b5d-9c16-9cf1b6263e5d",
   "metadata": {},
   "outputs": [],
   "source": [
    "\"\"\"\n",
    "Q3. What is App routing in Flask? Why do we use app routes?\n",
    "\n",
    "\n",
    "In Flask, app routing refers to the process of mapping URLs (Uniform Resource Locators) to specific functions.\n",
    "\n",
    "\n",
    "App routes in Flask are used to define the URL patterns and the actions to be performed when a specific URL is accessed. \n",
    "They play a crucial role in handling incoming HTTP requests and determining the appropriate response to send back to the client.\n",
    "\n",
    "\n",
    "\n",
    "\n",
    "\"\"\""
   ]
  },
  {
   "cell_type": "code",
   "execution_count": null,
   "id": "9804f8c8-7e44-487f-902d-c4c377b25973",
   "metadata": {},
   "outputs": [],
   "source": [
    "\"\"\"\n",
    "Q4.  Create a “/welcome” route to display the welcome message “Welcome to ABC Corporation” and a “/” \n",
    "route to show the following details:\n",
    "\n",
    "    Company Name: ABC Corporation\n",
    "\n",
    "    Location: India\n",
    "\n",
    "    Contact Detail: 999-999-9999 \n",
    "\"\"\"\n",
    "\n",
    "from flask import Flask\n",
    "\n",
    "app = Flask(__name__)\n",
    "\n",
    "@app.route('/welcome')\n",
    "def welcome():\n",
    "    return 'Welcome to ABC Corporation'\n",
    "\n",
    "@app.route('/')\n",
    "def company_details():\n",
    "    return '''\n",
    "    Company Name: ABC Corporation\n",
    "    Location: India\n",
    "    Contact Detail: 999-999-9999\n",
    "    '''\n",
    "\n",
    "if __name__ == '__main__':\n",
    "    app.run()\n",
    "\n",
    "\n"
   ]
  },
  {
   "cell_type": "code",
   "execution_count": null,
   "id": "bc9c74de-0a31-4008-a4a0-911284633393",
   "metadata": {},
   "outputs": [],
   "source": [
    "\n",
    "\"\"\"\n",
    "5. What function is used in Flask for URL Building? Write a Python code to demonstrate the working of the url_for() function.\n",
    "\n",
    "\n",
    "In Flask, the url_for() function is used for URL building. \n",
    "It generates a URL for a specific route or endpoint based on the provided arguments.\n",
    "\n",
    "\n",
    "It takes the endpoint name as the first argument and can optionally accept additional arguments for dynamic parts of the URL.\n",
    "\n",
    "\n",
    "\n",
    "\n",
    "\n",
    "\"\"\"\n",
    "\n",
    "from flask import Flask, redirect, url_for\n",
    "\n",
    "app = Flask(__name__)\n",
    "\n",
    "@app.route('/admin')\n",
    "def admin():\n",
    "    return 'Hello admin'\n",
    "\n",
    "@app.route('/student')\n",
    "def student():\n",
    "    return 'Hello student'\n",
    "\n",
    "@app.route('/user/<name>')\n",
    "def user(name):\n",
    "    if name == 'admin':\n",
    "        return redirect(url_for('admin'))\n",
    "    if name == 'student':\n",
    "        return redirect(url_for('student'))\n",
    "\n",
    "if __name__ == '__main__':\n",
    "    app.run()\n",
    "\n"
   ]
  },
  {
   "attachments": {
    "68a79dfe-09bc-458c-bcb9-9f04898d8b5e.PNG": {
     "image/png": "[encoded data removed]"
    }
   },
   "cell_type": "markdown",
   "id": "2f7305d0-d8f8-42f2-a2d8-a29fd52ba12a",
   "metadata": {},
   "source": [
    "![01.PNG](attachment:68a79dfe-09bc-458c-bcb9-9f04898d8b5e.PNG)"
   ]
  },
  {
   "attachments": {
    "e285b6b1-61c6-4eda-8a09-009ff396584a.PNG": {
     "image/png": "[encoded data removed]"
    }
   },
   "cell_type": "markdown",
   "id": "8c0fa633-3e14-42f2-8b1e-e14e9b076c23",
   "metadata": {},
   "source": [
    "![022.PNG](attachment:e285b6b1-61c6-4eda-8a09-009ff396584a.PNG)"
   ]
  },
  {
   "attachments": {
    "a19cd508-c831-4d14-9672-bb8d395e2d9d.PNG": {
     "image/png": "[encoded data removed]"
    }
   },
   "cell_type": "markdown",
   "id": "3e0dc931-2578-444f-a252-bcfa332d87f9",
   "metadata": {},
   "source": [
    "![02.PNG](attachment:a19cd508-c831-4d14-9672-bb8d395e2d9d.PNG)"
   ]
  },
  {
   "cell_type": "code",
   "execution_count": null,
   "id": "5de02d7b-345d-4e8e-818d-86d58a8a9561",
   "metadata": {},
   "outputs": [],
   "source": []
  }
 ],
 "metadata": {
  "kernelspec": {
   "display_name": "Python 3 (ipykernel)",
   "language": "python",
   "name": "python3"
  },
  "language_info": {
   "codemirror_mode": {
    "name": "ipython",
    "version": 3
   },
   "file_extension": ".py",
   "mimetype": "text/x-python",
   "name": "python",
   "nbconvert_exporter": "python",
   "pygments_lexer": "ipython3",
   "version": "3.10.8"
  }
 },
 "nbformat": 4,
 "nbformat_minor": 5
}
